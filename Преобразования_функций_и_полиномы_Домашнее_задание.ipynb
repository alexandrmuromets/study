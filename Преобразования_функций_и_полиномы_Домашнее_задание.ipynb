{
 "cells": [
  {
   "cell_type": "code",
   "execution_count": 1,
   "metadata": {
    "id": "BmNnAk4nTc7s"
   },
   "outputs": [],
   "source": [
    "from sympy import *\n",
    "import numpy as np\n",
    "init_printing(use_unicode=False, wrap_line=False, no_global=True)\n",
    "from sympy.solvers.inequalities import solve_univariate_inequality"
   ]
  },
  {
   "cell_type": "markdown",
   "metadata": {
    "id": "yyo73hwFEoJt"
   },
   "source": [
    "## Преобразования функций и полиномы. Домашнее задание\n",
    "\n",
    "С помощью SymPy найдите полиномы, описывающие данные наборы точек. Затем проведите полное исследование каждого полученного полинома: проверьте четность/нечетность, найдите нули, промежутки знакопостоянства. Постройте их графики. С помощью изменения промежутка для х добейтесь того, чтобы все нули были отображены на графике функции.<br><br>\n",
    "Средний уровень <br><br>\n",
    "$(-2, 2), (-1, 1), (0, 0), (1, 1), (2, 2)$<br><br>\n",
    "Сложный уровень <br><br>\n",
    "$(-3, 33), (-2, 31), (-1, 18), (1, -18), (2, -31), (3, -33)$\n"
   ]
  },
  {
   "cell_type": "code",
   "execution_count": 3,
   "metadata": {
    "id": "bVBLXKfjEiEA"
   },
   "outputs": [],
   "source": [
    "### YOUR CODE HERE \n",
    "def coef_polinom(list_tup):\n",
    "    \"\"\"Фунция  получения коэффициентов для полиномной интреполяции\n",
    "       Function for getting coefficients polynom for polynomial interpolation\n",
    "    \n",
    "    \n",
    "    list_tup список кортежей координат точек.\n",
    "             list of points tupleses\n",
    "    \n",
    "    \n",
    "    Возвращает список символов коэффициентов и коэффициенты формата sympy.sets.sets.FiniteSet\n",
    "    retuns list of coefficient symbols and coefficients as sympy.sets.sets.FiniteSet object\"\"\"\n",
    "    \n",
    "    \n",
    "    list_symbol=[]\n",
    "    for i in range(len(list_tup)):\n",
    "        sym=Symbol('a'+str(i))\n",
    "        list_symbol.append(sym)\n",
    "    list_symbol.reverse()\n",
    "    m=[]\n",
    "    for i in range(len(list_tup)):\n",
    "      l=[]\n",
    "      for k in range(len(list_tup)):\n",
    "          \n",
    "          l.append(list_tup[i][0]**k)\n",
    "      l.reverse()    \n",
    "      m.append(l)\n",
    "    A=Matrix(m)\n",
    "    B=Matrix([list_tup[i][1] for i in range(len(list_tup))])\n",
    "    return [list_symbol,linsolve((A,B),list_symbol)]\n",
    "\n",
    "\n",
    "\n",
    "def control(f,list_tup_):\n",
    "    \"\"\"функция проверки на входе принимает два параметра\n",
    "       testing function/ Takes two parametrs\n",
    "    \n",
    "       f  функция для проверки в формате sympy.core.add.\n",
    "          function for testing as sympy.core.add. object\n",
    "       list_tup_ список координат точек (кортежи) для проверки\n",
    "                 list points for testing\n",
    "       \n",
    "       \n",
    "       Результат  выводит пользовотелю на экран по всем точка и итоговый (если пройдены все тесты)\n",
    "        displays result  \"\"\"\n",
    "    print('testing function')\n",
    "    display(f)\n",
    "    itog=True\n",
    "    for i in list_tup_:\n",
    "        color='\\033[42m'\n",
    "        if i[1]!=f.subs(x,i[0]):\n",
    "            color= '\\033[45m'     \n",
    "        \n",
    "            \n",
    "        \n",
    "        print(f'point{i} function value {f.subs(x,i[0])}. {\" \"*(20-len(str(i)+str(f.subs(x,i[0]))))} result testing  {color}{i[1]==f.subs(x,i[0])}\\033[0m')\n",
    "        itog=itog*(i[1]==f.subs(x,i[0]))\n",
    "    if not itog:\n",
    "        color= '\\033[45m'\n",
    "        \n",
    "    print(f'\\n Test passed {color} {bool(itog)} \\033[0m')\n"
   ]
  },
  {
   "cell_type": "code",
   "execution_count": 4,
   "metadata": {
    "colab": {
     "base_uri": "https://localhost:8080/",
     "height": 58
    },
    "id": "5s6cjtFISt8O",
    "outputId": "f4ddb14a-b080-419d-ea4a-cef05e742da0",
    "scrolled": true
   },
   "outputs": [
    {
     "data": {
      "image/png": "[encoded data removed]",
      "text/latex": [
       "$\\displaystyle \\left[ \\left( -3, \\  33\\right), \\  \\left( -2, \\  31\\right), \\  \\left( -1, \\  18\\right), \\  \\left( 1, \\  -18\\right), \\  \\left( 2, \\  -31\\right), \\  \\left( 3, \\  -33\\right)\\right]$"
      ],
      "text/plain": [
       "[(-3, 33), (-2, 31), (-1, 18), (1, -18), (2, -31), (3, -33)]"
      ]
     },
     "metadata": {},
     "output_type": "display_data"
    },
    {
     "data": {
      "image/png": "[encoded data removed]",
      "text/latex": [
       "$\\displaystyle \\left[ \\left[ a_{5}, \\  a_{4}, \\  a_{3}, \\  a_{2}, \\  a_{1}, \\  a_{0}\\right], \\  \\left\\{\\left( \\frac{1}{120}, \\  0, \\  \\frac{19}{24}, \\  0, \\  - \\frac{94}{5}, \\  0\\right)\\right\\}\\right]$"
      ],
      "text/plain": [
       "                                       19                \n",
       "[[a5, a4, a3, a2, a1, a0], {(1/120, 0, --, 0, -94/5, 0)}]\n",
       "                                       24                "
      ]
     },
     "metadata": {},
     "output_type": "display_data"
    }
   ],
   "source": [
    "list_tup1=[(-3,33),(-2,31),(-1,18),(1,-18),(2,-31),(3,-33)]\n",
    "display(list_tup1,(coef_polinom(list_tup1)))\n"
   ]
  },
  {
   "cell_type": "code",
   "execution_count": 5,
   "metadata": {
    "scrolled": true
   },
   "outputs": [
    {
     "data": {
      "image/png": "[encoded data removed]",
      "text/latex": [
       "$\\displaystyle \\frac{x^{5}}{120} + \\frac{19 x^{3}}{24} - \\frac{94 x}{5}$"
      ],
      "text/plain": [
       "  5       3       \n",
       " x    19*x    94*x\n",
       "--- + ----- - ----\n",
       "120     24     5  "
      ]
     },
     "execution_count": 5,
     "metadata": {},
     "output_type": "execute_result"
    }
   ],
   "source": [
    "x=Symbol('x')\n",
    "f=Rational(1,120)*x**5+Rational(19,24)*x**3-Rational(94,5)*x\n",
    "f"
   ]
  },
  {
   "cell_type": "markdown",
   "metadata": {},
   "source": [
    "$f(x)=-f(-x)$ следовательно функция нечетная "
   ]
  },
  {
   "cell_type": "code",
   "execution_count": 6,
   "metadata": {
    "scrolled": false
   },
   "outputs": [
    {
     "data": {
      "text/plain": [
       "'Нули функции'"
      ]
     },
     "metadata": {},
     "output_type": "display_data"
    },
    {
     "data": {
      "image/png": "[encoded data removed]",
      "text/latex": [
       "$\\displaystyle \\left[ 0, \\  - i \\sqrt{\\frac{95}{2} + \\frac{\\sqrt{18049}}{2}}, \\  i \\sqrt{\\frac{95}{2} + \\frac{\\sqrt{18049}}{2}}, \\  - \\sqrt{- \\frac{95}{2} + \\frac{\\sqrt{18049}}{2}}, \\  \\sqrt{- \\frac{95}{2} + \\frac{\\sqrt{18049}}{2}}\\right]$"
      ],
      "text/plain": [
       "            ________________         ________________        __________________       __________________ \n",
       "           /        _______         /        _______        /          _______       /          _______  \n",
       "          /  95   \\/ 18049         /  95   \\/ 18049        /    95   \\/ 18049       /    95   \\/ 18049   \n",
       "[0, -I*  /   -- + --------- , I*  /   -- + --------- , -  /   - -- + --------- ,   /   - -- + --------- ]\n",
       "       \\/    2        2         \\/    2        2        \\/      2        2       \\/      2        2      "
      ]
     },
     "execution_count": 6,
     "metadata": {},
     "output_type": "execute_result"
    }
   ],
   "source": [
    "display('Нули функции')\n",
    "solve(f,x)"
   ]
  },
  {
   "cell_type": "markdown",
   "metadata": {},
   "source": [
    "#### решаем неравенство\n",
    "$f(x) > 0$"
   ]
  },
  {
   "cell_type": "code",
   "execution_count": 7,
   "metadata": {},
   "outputs": [
    {
     "data": {
      "image/png": "[encoded data removed]",
      "text/latex": [
       "$\\displaystyle \\left(x < 0 \\wedge - \\sqrt{- \\frac{95}{2} + \\frac{\\sqrt{18049}}{2}} < x\\right) \\vee \\left(x < \\infty \\wedge \\sqrt{- \\frac{95}{2} + \\frac{\\sqrt{18049}}{2}} < x\\right)$"
      ],
      "text/plain": [
       "  /   /             __________________    \\     /             __________________    \\\\\n",
       "  |   |            /          _______     |     |            /          _______     ||\n",
       "  |   |           /    95   \\/ 18049      |     |           /    95   \\/ 18049      ||\n",
       "Or|And|x < 0, -  /   - -- + ---------  < x|, And|x < oo,   /   - -- + ---------  < x||\n",
       "  \\   \\        \\/      2        2         /     \\        \\/      2        2         //"
      ]
     },
     "execution_count": 7,
     "metadata": {},
     "output_type": "execute_result"
    }
   ],
   "source": [
    "solve_univariate_inequality(f>0,x)"
   ]
  },
  {
   "cell_type": "markdown",
   "metadata": {},
   "source": [
    "#### решаем неравенство\n",
    "$f(x) < 0$"
   ]
  },
  {
   "cell_type": "code",
   "execution_count": 8,
   "metadata": {},
   "outputs": [
    {
     "data": {
      "image/png": "[encoded data removed]",
      "text/latex": [
       "$\\displaystyle \\left(-\\infty < x \\wedge x < - \\sqrt{- \\frac{95}{2} + \\frac{\\sqrt{18049}}{2}}\\right) \\vee \\left(0 < x \\wedge x < \\sqrt{- \\frac{95}{2} + \\frac{\\sqrt{18049}}{2}}\\right)$"
      ],
      "text/plain": [
       "  /   /                   __________________\\     /                __________________\\\\\n",
       "  |   |                  /          _______ |     |               /          _______ ||\n",
       "  |   |                 /    95   \\/ 18049  |     |              /    95   \\/ 18049  ||\n",
       "Or|And|-oo < x, x < -  /   - -- + --------- |, And|0 < x, x <   /   - -- + --------- ||\n",
       "  \\   \\              \\/      2        2     /     \\           \\/      2        2     //"
      ]
     },
     "execution_count": 8,
     "metadata": {},
     "output_type": "execute_result"
    }
   ],
   "source": [
    "solve_univariate_inequality(f<0,x)"
   ]
  },
  {
   "cell_type": "code",
   "execution_count": 9,
   "metadata": {},
   "outputs": [
    {
     "data": {
      "image/png": "[encoded data removed]",
      "text/plain": [
       "<Figure size 432x288 with 1 Axes>"
      ]
     },
     "metadata": {
      "needs_background": "light"
     },
     "output_type": "display_data"
    },
    {
     "data": {
      "text/plain": [
       "<sympy.plotting.plot.Plot at 0x7f3792d07190>"
      ]
     },
     "execution_count": 9,
     "metadata": {},
     "output_type": "execute_result"
    }
   ],
   "source": [
    "plot(f)"
   ]
  },
  {
   "cell_type": "code",
   "execution_count": 10,
   "metadata": {},
   "outputs": [
    {
     "name": "stdout",
     "output_type": "stream",
     "text": [
      "testing function\n"
     ]
    },
    {
     "data": {
      "image/png": "[encoded data removed]",
      "text/latex": [
       "$\\displaystyle \\frac{x^{5}}{120} + \\frac{19 x^{3}}{24} - \\frac{94 x}{5}$"
      ],
      "text/plain": [
       "  5       3       \n",
       " x    19*x    94*x\n",
       "--- + ----- - ----\n",
       "120     24     5  "
      ]
     },
     "metadata": {},
     "output_type": "display_data"
    },
    {
     "name": "stdout",
     "output_type": "stream",
     "text": [
      "point(-3, 33) function value 33.            result testing  \u001b[42mTrue\u001b[0m\n",
      "point(-2, 31) function value 31.            result testing  \u001b[42mTrue\u001b[0m\n",
      "point(-1, 18) function value 18.            result testing  \u001b[42mTrue\u001b[0m\n",
      "point(1, -18) function value -18.           result testing  \u001b[42mTrue\u001b[0m\n",
      "point(2, -31) function value -31.           result testing  \u001b[42mTrue\u001b[0m\n",
      "point(3, -33) function value -33.           result testing  \u001b[42mTrue\u001b[0m\n",
      "\n",
      " Test passed \u001b[42m True \u001b[0m\n"
     ]
    }
   ],
   "source": [
    "list_tup44=[(-3,33),(-2,31),(-1,18),(1,-19),(2,-31),(3,-33)]\n",
    "control(f,list_tup1)"
   ]
  },
  {
   "cell_type": "markdown",
   "metadata": {},
   "source": [
    "#### Проверим проверяющую функцию. \n",
    "А то может быть она выдает всегда **True**   \n",
    "Просто поменяем одну из координат точек   \n",
    "for testing \"testing function\" change one point to wrong"
   ]
  },
  {
   "cell_type": "code",
   "execution_count": 13,
   "metadata": {},
   "outputs": [
    {
     "name": "stdout",
     "output_type": "stream",
     "text": [
      "testing function\n"
     ]
    },
    {
     "data": {
      "image/png": "[encoded data removed]",
      "text/latex": [
       "$\\displaystyle \\frac{x^{5}}{120} + \\frac{19 x^{3}}{24} - \\frac{94 x}{5}$"
      ],
      "text/plain": [
       "  5       3       \n",
       " x    19*x    94*x\n",
       "--- + ----- - ----\n",
       "120     24     5  "
      ]
     },
     "metadata": {},
     "output_type": "display_data"
    },
    {
     "name": "stdout",
     "output_type": "stream",
     "text": [
      "point(-3, 33) function value 33.            result testing  \u001b[42mTrue\u001b[0m\n",
      "point(-2, 31) function value 31.            result testing  \u001b[42mTrue\u001b[0m\n",
      "point(-1, 18) function value 18.            result testing  \u001b[42mTrue\u001b[0m\n",
      "point(1, -19) function value -18.           result testing  \u001b[45mFalse\u001b[0m\n",
      "point(2, -31) function value -31.           result testing  \u001b[42mTrue\u001b[0m\n",
      "point(3, -33) function value -33.           result testing  \u001b[42mTrue\u001b[0m\n",
      "\n",
      " Test passed \u001b[45m False \u001b[0m\n"
     ]
    }
   ],
   "source": [
    "list_tup1=[(-3,33),(-2,31),(-1,18),(1,-18),(2,-31),(3,-33)]\n",
    "list_tup44=[(-3,33),(-2,31),(-1,18),(1,-19),(2,-31),(3,-33)]\n",
    "control(f,list_tup44)"
   ]
  },
  {
   "cell_type": "code",
   "execution_count": 14,
   "metadata": {
    "colab": {
     "base_uri": "https://localhost:8080/",
     "height": 58
    },
    "id": "1EcX_7iLXfNj",
    "outputId": "440e0f4e-0afa-4510-c561-096008e5f930"
   },
   "outputs": [
    {
     "data": {
      "image/png": "[encoded data removed]",
      "text/latex": [
       "$\\displaystyle \\left[ \\left( -2, \\  2\\right), \\  \\left( -1, \\  1\\right), \\  \\left( 0, \\  0\\right), \\  \\left( 1, \\  1\\right), \\  \\left( 2, \\  2\\right)\\right]$"
      ],
      "text/plain": [
       "[(-2, 2), (-1, 1), (0, 0), (1, 1), (2, 2)]"
      ]
     },
     "metadata": {},
     "output_type": "display_data"
    },
    {
     "data": {
      "image/png": "[encoded data removed]",
      "text/latex": [
       "$\\displaystyle \\left[ \\left[ a_{4}, \\  a_{3}, \\  a_{2}, \\  a_{1}, \\  a_{0}\\right], \\  \\left\\{\\left( - \\frac{1}{6}, \\  0, \\  \\frac{7}{6}, \\  0, \\  0\\right)\\right\\}\\right]$"
      ],
      "text/plain": [
       "[[a4, a3, a2, a1, a0], {(-1/6, 0, 7/6, 0, 0)}]"
      ]
     },
     "metadata": {},
     "output_type": "display_data"
    }
   ],
   "source": [
    "# расчет коэффициентов первого набора точек\n",
    "list_tup2=[(-2,2),(-1,1),(0,0),(1,1),(2,2)]\n",
    "display(list_tup2,(coef_polinom(list_tup2)))"
   ]
  },
  {
   "cell_type": "code",
   "execution_count": 15,
   "metadata": {},
   "outputs": [
    {
     "data": {
      "image/png": "[encoded data removed]",
      "text/latex": [
       "$\\displaystyle - \\frac{x^{4}}{6} + \\frac{7 x^{2}}{6}$"
      ],
      "text/plain": [
       "   4      2\n",
       "  x    7*x \n",
       "- -- + ----\n",
       "  6     6  "
      ]
     },
     "execution_count": 15,
     "metadata": {},
     "output_type": "execute_result"
    }
   ],
   "source": [
    "g = -Rational(1,6)*x**4+Rational(7,6)*x**2\n",
    "g"
   ]
  },
  {
   "cell_type": "code",
   "execution_count": 16,
   "metadata": {
    "scrolled": false
   },
   "outputs": [
    {
     "name": "stdout",
     "output_type": "stream",
     "text": [
      "testing function\n"
     ]
    },
    {
     "data": {
      "image/png": "[encoded data removed]",
      "text/latex": [
       "$\\displaystyle - \\frac{x^{4}}{6} + \\frac{7 x^{2}}{6}$"
      ],
      "text/plain": [
       "   4      2\n",
       "  x    7*x \n",
       "- -- + ----\n",
       "  6     6  "
      ]
     },
     "metadata": {},
     "output_type": "display_data"
    },
    {
     "name": "stdout",
     "output_type": "stream",
     "text": [
      "point(-2, 2) function value 2.              result testing  \u001b[42mTrue\u001b[0m\n",
      "point(-1, 1) function value 1.              result testing  \u001b[42mTrue\u001b[0m\n",
      "point(0, 0) function value 0.               result testing  \u001b[42mTrue\u001b[0m\n",
      "point(1, 1) function value 1.               result testing  \u001b[42mTrue\u001b[0m\n",
      "point(2, 2) function value 2.               result testing  \u001b[42mTrue\u001b[0m\n",
      "\n",
      " Test passed \u001b[42m True \u001b[0m\n"
     ]
    }
   ],
   "source": [
    "control(g,list_tup2)"
   ]
  },
  {
   "cell_type": "markdown",
   "metadata": {},
   "source": [
    "#### ищем нули функции"
   ]
  },
  {
   "cell_type": "code",
   "execution_count": 17,
   "metadata": {
    "scrolled": false
   },
   "outputs": [
    {
     "data": {
      "image/png": "[encoded data removed]",
      "text/latex": [
       "$\\displaystyle \\left[ 0, \\  - \\sqrt{7}, \\  \\sqrt{7}\\right]$"
      ],
      "text/plain": [
       "       ___    ___ \n",
       "[0, -\\/ 7 , \\/ 7 ]"
      ]
     },
     "execution_count": 17,
     "metadata": {},
     "output_type": "execute_result"
    }
   ],
   "source": [
    "solve(g,x)"
   ]
  },
  {
   "cell_type": "markdown",
   "metadata": {},
   "source": [
    "#### решаем неравенство\n",
    "$g(x) > 0$"
   ]
  },
  {
   "cell_type": "code",
   "execution_count": 18,
   "metadata": {
    "scrolled": true
   },
   "outputs": [
    {
     "data": {
      "image/png": "[encoded data removed]",
      "text/latex": [
       "$\\displaystyle \\left(0 < x \\wedge x < \\sqrt{7}\\right) \\vee \\left(- \\sqrt{7} < x \\wedge x < 0\\right)$"
      ],
      "text/plain": [
       "  /   /             ___\\     /   ___           \\\\\n",
       "Or\\And\\0 < x, x < \\/ 7 /, And\\-\\/ 7  < x, x < 0//"
      ]
     },
     "execution_count": 18,
     "metadata": {},
     "output_type": "execute_result"
    }
   ],
   "source": [
    "solve_univariate_inequality(g > 0, x)"
   ]
  },
  {
   "cell_type": "markdown",
   "metadata": {},
   "source": [
    "#### решаем неравенство\n",
    "$g(x) < 0$"
   ]
  },
  {
   "cell_type": "code",
   "execution_count": 108,
   "metadata": {},
   "outputs": [
    {
     "data": {
      "image/png": "[encoded data removed]",
      "text/latex": [
       "$\\displaystyle \\left(-\\infty < x \\wedge x < - \\sqrt{7}\\right) \\vee \\left(\\sqrt{7} < x \\wedge x < \\infty\\right)$"
      ],
      "text/plain": [
       "  /   /                ___\\     /  ___            \\\\\n",
       "Or\\And\\-oo < x, x < -\\/ 7 /, And\\\\/ 7  < x, x < oo//"
      ]
     },
     "execution_count": 108,
     "metadata": {},
     "output_type": "execute_result"
    }
   ],
   "source": [
    "solve_univariate_inequality(g < 0, x)"
   ]
  },
  {
   "cell_type": "code",
   "execution_count": 98,
   "metadata": {},
   "outputs": [
    {
     "data": {
      "image/png": "[encoded data removed]",
      "text/plain": [
       "<Figure size 432x288 with 1 Axes>"
      ]
     },
     "metadata": {
      "needs_background": "light"
     },
     "output_type": "display_data"
    },
    {
     "data": {
      "text/plain": [
       "<sympy.plotting.plot.Plot at 0x7fb1371f37d0>"
      ]
     },
     "execution_count": 98,
     "metadata": {},
     "output_type": "execute_result"
    }
   ],
   "source": [
    "plot(g,(x,-4,4))"
   ]
  },
  {
   "cell_type": "code",
   "execution_count": 140,
   "metadata": {},
   "outputs": [
    {
     "data": {
      "text/plain": [
       "sympy.sets.sets.FiniteSet"
      ]
     },
     "execution_count": 140,
     "metadata": {},
     "output_type": "execute_result"
    }
   ],
   "source": [
    "type(coef_polinom(list_tup1)[1])"
   ]
  },
  {
   "cell_type": "code",
   "execution_count": 141,
   "metadata": {},
   "outputs": [
    {
     "data": {
      "image/png": "[encoded data removed]",
      "text/latex": [
       "$\\displaystyle \\left\\{\\left( \\frac{1}{120}, \\  0, \\  \\frac{19}{24}, \\  0, \\  - \\frac{94}{5}, \\  0\\right)\\right\\}$"
      ],
      "text/plain": [
       "            19               \n",
       "{(1/120, 0, --, 0, -94/5, 0)}\n",
       "            24               "
      ]
     },
     "execution_count": 141,
     "metadata": {},
     "output_type": "execute_result"
    }
   ],
   "source": [
    "coef_polinom(list_tup1)[1]"
   ]
  },
  {
   "cell_type": "code",
   "execution_count": 142,
   "metadata": {},
   "outputs": [
    {
     "ename": "TypeError",
     "evalue": "'FiniteSet' object is not subscriptable",
     "output_type": "error",
     "traceback": [
      "\u001b[0;31m---------------------------------------------------------------------------\u001b[0m",
      "\u001b[0;31mTypeError\u001b[0m                                 Traceback (most recent call last)",
      "\u001b[0;32m<ipython-input-142-8fe63004b4cc>\u001b[0m in \u001b[0;36m<module>\u001b[0;34m\u001b[0m\n\u001b[0;32m----> 1\u001b[0;31m \u001b[0mcoef_polinom\u001b[0m\u001b[0;34m(\u001b[0m\u001b[0mlist_tup1\u001b[0m\u001b[0;34m)\u001b[0m\u001b[0;34m[\u001b[0m\u001b[0;36m1\u001b[0m\u001b[0;34m]\u001b[0m\u001b[0;34m[\u001b[0m\u001b[0;36m0\u001b[0m\u001b[0;34m]\u001b[0m\u001b[0;34m\u001b[0m\u001b[0;34m\u001b[0m\u001b[0m\n\u001b[0m",
      "\u001b[0;31mTypeError\u001b[0m: 'FiniteSet' object is not subscriptable"
     ]
    }
   ],
   "source": [
    "coef_polinom(list_tup1)[1][0]"
   ]
  },
  {
   "cell_type": "code",
   "execution_count": 1,
   "metadata": {},
   "outputs": [
    {
     "data": {
      "text/plain": [
       "datetime.datetime(2021, 4, 14, 23, 14, 53, 743268)"
      ]
     },
     "execution_count": 1,
     "metadata": {},
     "output_type": "execute_result"
    },
    {
     "name": "stdout",
     "output_type": "stream",
     "text": [
      "The history saving thread hit an unexpected error (OperationalError('database is locked')).History will not be written to the database.\n"
     ]
    }
   ],
   "source": [
    "import datetime\n",
    "datetime.datetime.now()"
   ]
  },
  {
   "cell_type": "code",
   "execution_count": null,
   "metadata": {},
   "outputs": [],
   "source": []
  }
 ],
 "metadata": {
  "colab": {
   "collapsed_sections": [],
   "name": "Преобразования функций и полиномы. Домашнее задание.ipynb",
   "provenance": [],
   "toc_visible": true
  },
  "kernelspec": {
   "display_name": "Python 3",
   "language": "python",
   "name": "python3"
  },
  "language_info": {
   "codemirror_mode": {
    "name": "ipython",
    "version": 3
   },
   "file_extension": ".py",
   "mimetype": "text/x-python",
   "name": "python",
   "nbconvert_exporter": "python",
   "pygments_lexer": "ipython3",
   "version": "3.7.10"
  }
 },
 "nbformat": 4,
 "nbformat_minor": 1
}
