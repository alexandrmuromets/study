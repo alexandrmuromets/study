{
 "cells": [
  {
   "cell_type": "code",
   "execution_count": 1,
   "id": "considerable-scanning",
   "metadata": {},
   "outputs": [],
   "source": [
    "import numpy as np\n",
    "from sympy import *\n"
   ]
  },
  {
   "cell_type": "markdown",
   "id": "reflected-corps",
   "metadata": {},
   "source": [
    "решение системы линейных уравнений через    Numpy\n",
    "1. способ обратной матрицы"
   ]
  },
  {
   "cell_type": "code",
   "execution_count": 2,
   "id": "committed-terrorist",
   "metadata": {},
   "outputs": [],
   "source": [
    "A=[[2,3],[0,1]]\n",
    "b=np.array([2,4])[:, np.newaxis]\n",
    "An=np.matrix(A)\n",
    "bn=np.matrix(b)"
   ]
  },
  {
   "cell_type": "code",
   "execution_count": 3,
   "id": "proved-dispatch",
   "metadata": {},
   "outputs": [
    {
     "data": {
      "text/plain": [
       "matrix([[ 0.5, -1.5],\n",
       "        [ 0. ,  1. ]])"
      ]
     },
     "execution_count": 3,
     "metadata": {},
     "output_type": "execute_result"
    }
   ],
   "source": [
    "An_inv=An**(-1)\n",
    "An_inv"
   ]
  },
  {
   "cell_type": "code",
   "execution_count": 4,
   "id": "talented-lyric",
   "metadata": {},
   "outputs": [
    {
     "data": {
      "text/plain": [
       "matrix([[-5.],\n",
       "        [ 4.]])"
      ]
     },
     "execution_count": 4,
     "metadata": {},
     "output_type": "execute_result"
    }
   ],
   "source": [
    "rez=An**(-1)*bn\n",
    "rez"
   ]
  },
  {
   "cell_type": "code",
   "execution_count": 5,
   "id": "statutory-apparel",
   "metadata": {},
   "outputs": [
    {
     "data": {
      "text/plain": [
       "matrix([[ True],\n",
       "        [ True]])"
      ]
     },
     "execution_count": 5,
     "metadata": {},
     "output_type": "execute_result"
    }
   ],
   "source": [
    "A*rez==b"
   ]
  },
  {
   "cell_type": "markdown",
   "id": "starting-refund",
   "metadata": {},
   "source": [
    "Можно решить непосредственно"
   ]
  },
  {
   "cell_type": "code",
   "execution_count": 6,
   "id": "applicable-standing",
   "metadata": {},
   "outputs": [
    {
     "data": {
      "text/plain": [
       "matrix([[-5.],\n",
       "        [ 4.]])"
      ]
     },
     "execution_count": 6,
     "metadata": {},
     "output_type": "execute_result"
    }
   ],
   "source": [
    "\n",
    "np.linalg.solve(An,bn)"
   ]
  },
  {
   "cell_type": "code",
   "execution_count": 7,
   "id": "attended-approach",
   "metadata": {},
   "outputs": [
    {
     "data": {
      "text/plain": [
       "matrix([[ True],\n",
       "        [ True]])"
      ]
     },
     "execution_count": 7,
     "metadata": {},
     "output_type": "execute_result"
    }
   ],
   "source": [
    "rez==np.linalg.solve(An,bn)"
   ]
  },
  {
   "cell_type": "markdown",
   "id": "industrial-witch",
   "metadata": {},
   "source": [
    "Решим эту же систему через sympy методом обратных матриц "
   ]
  },
  {
   "cell_type": "code",
   "execution_count": 8,
   "id": "verbal-nation",
   "metadata": {},
   "outputs": [],
   "source": [
    "As=Matrix(A)\n",
    "bs=Matrix(b)"
   ]
  },
  {
   "cell_type": "code",
   "execution_count": 9,
   "id": "acting-narrow",
   "metadata": {},
   "outputs": [
    {
     "data": {
      "text/latex": [
       "$\\displaystyle \\left[\\begin{matrix}\\frac{1}{2} & - \\frac{3}{2}\\\\0 & 1\\end{matrix}\\right]$"
      ],
      "text/plain": [
       "Matrix([\n",
       "[1/2, -3/2],\n",
       "[  0,    1]])"
      ]
     },
     "execution_count": 9,
     "metadata": {},
     "output_type": "execute_result"
    }
   ],
   "source": [
    "As_inv=As**(-1)\n",
    "As_inv"
   ]
  },
  {
   "cell_type": "code",
   "execution_count": 10,
   "id": "floppy-migration",
   "metadata": {},
   "outputs": [
    {
     "data": {
      "text/latex": [
       "$\\displaystyle \\left[\\begin{matrix}0 & 0\\\\0 & 0\\end{matrix}\\right]$"
      ],
      "text/plain": [
       "Matrix([\n",
       "[0, 0],\n",
       "[0, 0]])"
      ]
     },
     "execution_count": 10,
     "metadata": {},
     "output_type": "execute_result"
    }
   ],
   "source": [
    "An_inv-As_inv"
   ]
  },
  {
   "cell_type": "markdown",
   "id": "organic-cologne",
   "metadata": {},
   "source": [
    "Видим, что numpy и sympy мало того, что создали одинаковые  обратные матрицы, так ещё их можно между собой вычитать и складывать. Кстати непосредственно решить систему через  linsolve  нам тоже никто не мешает"
   ]
  },
  {
   "cell_type": "code",
   "execution_count": 11,
   "id": "adequate-civilian",
   "metadata": {},
   "outputs": [
    {
     "data": {
      "text/latex": [
       "$\\displaystyle \\left\\{\\left( -5, \\  4\\right)\\right\\}$"
      ],
      "text/plain": [
       "FiniteSet((-5, 4))"
      ]
     },
     "execution_count": 11,
     "metadata": {},
     "output_type": "execute_result"
    }
   ],
   "source": [
    "linsolve((As,bs))"
   ]
  },
  {
   "cell_type": "code",
   "execution_count": 12,
   "id": "least-chemistry",
   "metadata": {},
   "outputs": [
    {
     "data": {
      "text/latex": [
       "$\\displaystyle \\left[\\begin{matrix}-5\\\\4\\end{matrix}\\right]$"
      ],
      "text/plain": [
       "Matrix([\n",
       "[-5],\n",
       "[ 4]])"
      ]
     },
     "execution_count": 12,
     "metadata": {},
     "output_type": "execute_result"
    }
   ],
   "source": [
    "As_inv*bs# умножаем обратную матрицу на дополнителную матрицу"
   ]
  },
  {
   "cell_type": "markdown",
   "id": "productive-auckland",
   "metadata": {},
   "source": [
    "Ну и как видим результаты одинаковые. Проделаем аналогичные действия со второй системой."
   ]
  },
  {
   "cell_type": "code",
   "execution_count": 13,
   "id": "olive-suicide",
   "metadata": {},
   "outputs": [
    {
     "data": {
      "text/plain": [
       "matrix([[1, 5],\n",
       "        [0, 3]])"
      ]
     },
     "execution_count": 13,
     "metadata": {},
     "output_type": "execute_result"
    }
   ],
   "source": [
    "A=np.matrix(([1,5],[0,3]))\n",
    "A"
   ]
  },
  {
   "cell_type": "code",
   "execution_count": 14,
   "id": "exciting-finding",
   "metadata": {},
   "outputs": [
    {
     "data": {
      "text/plain": [
       "matrix([[3],\n",
       "        [9]])"
      ]
     },
     "execution_count": 14,
     "metadata": {},
     "output_type": "execute_result"
    }
   ],
   "source": [
    "B=np.matrix(np.array([3,9])[:,np.newaxis])\n",
    "B"
   ]
  },
  {
   "cell_type": "code",
   "execution_count": 15,
   "id": "specific-coordination",
   "metadata": {},
   "outputs": [
    {
     "data": {
      "text/plain": [
       "matrix([[ 1.        , -1.66666667],\n",
       "        [ 0.        ,  0.33333333]])"
      ]
     },
     "execution_count": 15,
     "metadata": {},
     "output_type": "execute_result"
    }
   ],
   "source": [
    "A_inv=A**(-1)\n",
    "A_inv"
   ]
  },
  {
   "cell_type": "code",
   "execution_count": 16,
   "id": "negative-juvenile",
   "metadata": {},
   "outputs": [
    {
     "data": {
      "text/plain": [
       "matrix([[-12.],\n",
       "        [  3.]])"
      ]
     },
     "execution_count": 16,
     "metadata": {},
     "output_type": "execute_result"
    }
   ],
   "source": [
    "A_inv*B"
   ]
  },
  {
   "cell_type": "markdown",
   "id": "numeric-shelter",
   "metadata": {},
   "source": [
    "решим это же уравнение через sympy обратную матрицу"
   ]
  },
  {
   "cell_type": "code",
   "execution_count": 17,
   "id": "authentic-sudan",
   "metadata": {},
   "outputs": [
    {
     "data": {
      "text/latex": [
       "$\\displaystyle \\left[\\begin{matrix}1 & 5\\\\0 & 3\\end{matrix}\\right]$"
      ],
      "text/plain": [
       "Matrix([\n",
       "[1, 5],\n",
       "[0, 3]])"
      ]
     },
     "execution_count": 17,
     "metadata": {},
     "output_type": "execute_result"
    }
   ],
   "source": [
    "A=Matrix(A)\n",
    "A"
   ]
  },
  {
   "cell_type": "code",
   "execution_count": 18,
   "id": "running-tuner",
   "metadata": {},
   "outputs": [
    {
     "data": {
      "text/latex": [
       "$\\displaystyle \\left[\\begin{matrix}3\\\\9\\end{matrix}\\right]$"
      ],
      "text/plain": [
       "Matrix([\n",
       "[3],\n",
       "[9]])"
      ]
     },
     "execution_count": 18,
     "metadata": {},
     "output_type": "execute_result"
    }
   ],
   "source": [
    "B=Matrix(B)\n",
    "B"
   ]
  },
  {
   "cell_type": "code",
   "execution_count": 19,
   "id": "digital-massage",
   "metadata": {},
   "outputs": [
    {
     "data": {
      "text/latex": [
       "$\\displaystyle \\left[\\begin{matrix}1 & - \\frac{5}{3}\\\\0 & \\frac{1}{3}\\end{matrix}\\right]$"
      ],
      "text/plain": [
       "Matrix([\n",
       "[1, -5/3],\n",
       "[0,  1/3]])"
      ]
     },
     "execution_count": 19,
     "metadata": {},
     "output_type": "execute_result"
    }
   ],
   "source": [
    "A_inv=A**(-1)\n",
    "A_inv"
   ]
  },
  {
   "cell_type": "code",
   "execution_count": 20,
   "id": "average-northeast",
   "metadata": {},
   "outputs": [
    {
     "data": {
      "text/latex": [
       "$\\displaystyle \\left[\\begin{matrix}-12\\\\3\\end{matrix}\\right]$"
      ],
      "text/plain": [
       "Matrix([\n",
       "[-12],\n",
       "[  3]])"
      ]
     },
     "execution_count": 20,
     "metadata": {},
     "output_type": "execute_result"
    }
   ],
   "source": [
    "A_inv*B"
   ]
  },
  {
   "cell_type": "markdown",
   "id": "excited-tennis",
   "metadata": {},
   "source": [
    "И здесь результы одинаковые"
   ]
  },
  {
   "cell_type": "markdown",
   "id": "middle-paint",
   "metadata": {},
   "source": [
    "Еще две системы. Здесь ограничусь решением через обратные матрицы sympy "
   ]
  },
  {
   "cell_type": "code",
   "execution_count": 46,
   "id": "filled-metro",
   "metadata": {},
   "outputs": [],
   "source": [
    "A=Matrix([[2,3,-1],[0,1,1],[1,-1,2]])\n",
    "B=Matrix([2,4,6])"
   ]
  },
  {
   "cell_type": "code",
   "execution_count": 47,
   "id": "loving-underwear",
   "metadata": {},
   "outputs": [
    {
     "data": {
      "text/latex": [
       "$\\displaystyle \\left[\\begin{matrix}2 x_{1} + 3 x_{2} - x_{3}\\\\x_{2} + x_{3}\\\\x_{1} - x_{2} + 2 x_{3}\\end{matrix}\\right]$"
      ],
      "text/plain": [
       "Matrix([\n",
       "[2*x1 + 3*x2 - x3],\n",
       "[         x2 + x3],\n",
       "[  x1 - x2 + 2*x3]])"
      ]
     },
     "execution_count": 47,
     "metadata": {},
     "output_type": "execute_result"
    }
   ],
   "source": [
    "x1,x2,x3=symbols('x1 x2 x3')\n",
    "X=Matrix([x1,x2,x3])\n",
    "display(A*X) #  Запишем матрицу красиво в виде системы уравнений и решим ее\n",
    "display(B"
   ]
  },
  {
   "cell_type": "code",
   "execution_count": 48,
   "id": "monthly-devon",
   "metadata": {},
   "outputs": [
    {
     "data": {
      "text/latex": [
       "$\\displaystyle \\left[\\begin{matrix}1\\\\1\\\\3\\end{matrix}\\right]$"
      ],
      "text/plain": [
       "Matrix([\n",
       "[1],\n",
       "[1],\n",
       "[3]])"
      ]
     },
     "execution_count": 48,
     "metadata": {},
     "output_type": "execute_result"
    }
   ],
   "source": [
    "A**(-1)*B"
   ]
  },
  {
   "cell_type": "code",
   "execution_count": 49,
   "id": "decreased-folder",
   "metadata": {},
   "outputs": [
    {
     "data": {
      "text/latex": [
       "$\\displaystyle \\left\\{\\left( 1, \\  1, \\  3\\right)\\right\\}$"
      ],
      "text/plain": [
       "FiniteSet((1, 1, 3))"
      ]
     },
     "execution_count": 49,
     "metadata": {},
     "output_type": "execute_result"
    }
   ],
   "source": [
    "linsolve((A,B)) #     проверим с помощью стандартной функции"
   ]
  },
  {
   "cell_type": "markdown",
   "id": "formal-basement",
   "metadata": {},
   "source": [
    "Ответы совпадают!"
   ]
  },
  {
   "cell_type": "code",
   "execution_count": 50,
   "id": "reverse-shield",
   "metadata": {},
   "outputs": [],
   "source": [
    "A=Matrix([[1,5,-2],[0,3,1],[-4,-6,2]])\n",
    "B=Matrix([8,16,32])"
   ]
  },
  {
   "cell_type": "code",
   "execution_count": 51,
   "id": "foster-corpus",
   "metadata": {},
   "outputs": [
    {
     "data": {
      "text/latex": [
       "$\\displaystyle \\left[\\begin{matrix}x_{1} + 5 x_{2} - 2 x_{3}\\\\3 x_{2} + x_{3}\\\\- 4 x_{1} - 6 x_{2} + 2 x_{3}\\end{matrix}\\right]$"
      ],
      "text/plain": [
       "Matrix([\n",
       "[   x1 + 5*x2 - 2*x3],\n",
       "[          3*x2 + x3],\n",
       "[-4*x1 - 6*x2 + 2*x3]])"
      ]
     },
     "execution_count": 51,
     "metadata": {},
     "output_type": "execute_result"
    }
   ],
   "source": [
    "A*X"
   ]
  },
  {
   "cell_type": "code",
   "execution_count": 52,
   "id": "precise-ranking",
   "metadata": {},
   "outputs": [
    {
     "data": {
      "text/latex": [
       "$\\displaystyle \\left[\\begin{matrix}-15\\\\5\\\\1\\end{matrix}\\right]$"
      ],
      "text/plain": [
       "Matrix([\n",
       "[-15],\n",
       "[  5],\n",
       "[  1]])"
      ]
     },
     "execution_count": 52,
     "metadata": {},
     "output_type": "execute_result"
    }
   ],
   "source": [
    "A**(-1)*B"
   ]
  },
  {
   "cell_type": "code",
   "execution_count": 53,
   "id": "raised-apache",
   "metadata": {},
   "outputs": [
    {
     "data": {
      "text/latex": [
       "$\\displaystyle \\left\\{\\left( -15, \\  5, \\  1\\right)\\right\\}$"
      ],
      "text/plain": [
       "FiniteSet((-15, 5, 1))"
      ]
     },
     "execution_count": 53,
     "metadata": {},
     "output_type": "execute_result"
    }
   ],
   "source": [
    "linsolve((A,B))"
   ]
  },
  {
   "cell_type": "code",
   "execution_count": 63,
   "id": "involved-planner",
   "metadata": {},
   "outputs": [],
   "source": [
    "AA = np.matrix([[1,5,-2],[0,3,1],[-4,-6,2]])\n",
    "BB = np.matrix(np.array([8,16,32])[:,np.newaxis])"
   ]
  },
  {
   "cell_type": "code",
   "execution_count": 64,
   "id": "dominant-origin",
   "metadata": {},
   "outputs": [
    {
     "data": {
      "text/plain": [
       "matrix([[-15.],\n",
       "        [  5.],\n",
       "        [  1.]])"
      ]
     },
     "execution_count": 64,
     "metadata": {},
     "output_type": "execute_result"
    }
   ],
   "source": [
    "AA**(-1)*BB"
   ]
  },
  {
   "cell_type": "code",
   "execution_count": 65,
   "id": "horizontal-bankruptcy",
   "metadata": {},
   "outputs": [],
   "source": [
    "system=[[5,7,-5],[0,-2,2],[-4,-8,-7],[1,1,2],[2,-1,2],[4,1,4]]\n",
    "rez=[-47,10,63,-1,-4,-2]"
   ]
  },
  {
   "cell_type": "code",
   "execution_count": 72,
   "id": "statewide-monte",
   "metadata": {},
   "outputs": [
    {
     "data": {
      "text/plain": [
       "matrix([[ 5,  7, -5],\n",
       "        [ 0, -2,  2],\n",
       "        [-4, -8, -7],\n",
       "        [ 1,  1,  2],\n",
       "        [ 2, -1,  2],\n",
       "        [ 4,  1,  4]])"
      ]
     },
     "metadata": {},
     "output_type": "display_data"
    },
    {
     "data": {
      "text/plain": [
       "matrix([[-47],\n",
       "        [ 10],\n",
       "        [ 63],\n",
       "        [ -1],\n",
       "        [ -4],\n",
       "        [ -2]])"
      ]
     },
     "metadata": {},
     "output_type": "display_data"
    }
   ],
   "source": [
    "A_np=np.matrix(system)\n",
    "B_np=np.matrix(np.array(rez)[:,np.newaxis])\n",
    "display(A_np, B_np)"
   ]
  },
  {
   "cell_type": "code",
   "execution_count": 77,
   "id": "rocky-ribbon",
   "metadata": {},
   "outputs": [
    {
     "data": {
      "text/plain": [
       "matrix([[ 8.83433664e-02,  4.41716832e-02,  7.13783129e-02,\n",
       "          9.22523649e-03,  1.17934485e-01,  1.49675553e-01],\n",
       "        [ 1.98837724e-02, -4.56136693e-02, -9.67173099e-02,\n",
       "         -8.68666337e-05, -7.83233002e-02, -8.23886587e-02],\n",
       "        [-7.47661116e-02,  1.81724998e-02, -6.62097482e-02,\n",
       "          1.73646401e-02,  6.82771741e-03,  1.94928726e-02]])"
      ]
     },
     "execution_count": 77,
     "metadata": {},
     "output_type": "execute_result"
    }
   ],
   "source": [
    "A_np_pinv=np.linalg.pinv(A_np)# В   numpy тоже можно сделать псевдообратную матрицу\n",
    "A_np_pinv"
   ]
  },
  {
   "cell_type": "code",
   "execution_count": 78,
   "id": "split-mumbai",
   "metadata": {},
   "outputs": [
    {
     "data": {
      "text/plain": [
       "matrix([[ 6.09803768e-03],\n",
       "        [-7.00570714e+00],\n",
       "        [-5.59143148e-01]])"
      ]
     },
     "execution_count": 78,
     "metadata": {},
     "output_type": "execute_result"
    }
   ],
   "source": [
    "A_np_pinv*B_np#  И с ее помощью решить переопределенную систему уравнений."
   ]
  },
  {
   "cell_type": "markdown",
   "id": "hawaiian-bread",
   "metadata": {},
   "source": [
    "### Второе задание"
   ]
  },
  {
   "cell_type": "code",
   "execution_count": 86,
   "id": "dominican-heritage",
   "metadata": {},
   "outputs": [],
   "source": [
    "a1, a2 = symbols('a1, a2')\n",
    "list_a=[a1, a2]\n",
    "A_simv=Matrix(list_a)\n",
    "MSE = 1 / 4 * ((a1 * 1 + a2 * 2 - 5)**2 + \\\n",
    "               (a1 * 5 + a2 * 3 - 6)**2 + \\\n",
    "               (a1 * 2 + a2 * 4 - 10)**2 + \\\n",
    "               (a1 * 3 + a2 * 7 - 8)**2)\n"
   ]
  },
  {
   "cell_type": "code",
   "execution_count": 87,
   "id": "structural-kingdom",
   "metadata": {},
   "outputs": [
    {
     "data": {
      "text/latex": [
       "$\\displaystyle \\left[\\begin{matrix}a_{1} + 2 a_{2}\\\\5 a_{1} + 3 a_{2}\\\\2 a_{1} + 4 a_{2}\\\\3 a_{1} + 7 a_{2}\\end{matrix}\\right]$"
      ],
      "text/plain": [
       "Matrix([\n",
       "[  a1 + 2*a2],\n",
       "[5*a1 + 3*a2],\n",
       "[2*a1 + 4*a2],\n",
       "[3*a1 + 7*a2]])"
      ]
     },
     "execution_count": 87,
     "metadata": {},
     "output_type": "execute_result"
    }
   ],
   "source": [
    "A=Matrix([[1,2],[5,3],[2,4],[3,7]])\n",
    "A*A_simv"
   ]
  },
  {
   "cell_type": "code",
   "execution_count": 96,
   "id": "played-europe",
   "metadata": {},
   "outputs": [
    {
     "data": {
      "text/latex": [
       "$\\displaystyle \\left[\\begin{matrix}5\\\\6\\\\10\\\\8\\end{matrix}\\right]$"
      ],
      "text/plain": [
       "Matrix([\n",
       "[ 5],\n",
       "[ 6],\n",
       "[10],\n",
       "[ 8]])"
      ]
     },
     "execution_count": 96,
     "metadata": {},
     "output_type": "execute_result"
    }
   ],
   "source": [
    "B=Matrix([5,6,10,8])\n",
    "B"
   ]
  },
  {
   "cell_type": "code",
   "execution_count": 88,
   "id": "baking-exemption",
   "metadata": {},
   "outputs": [
    {
     "data": {
      "text/latex": [
       "$\\displaystyle \\left[\\begin{matrix}1 & 2\\\\5 & 3\\\\2 & 4\\\\3 & 7\\end{matrix}\\right]$"
      ],
      "text/plain": [
       "Matrix([\n",
       "[1, 2],\n",
       "[5, 3],\n",
       "[2, 4],\n",
       "[3, 7]])"
      ]
     },
     "execution_count": 88,
     "metadata": {},
     "output_type": "execute_result"
    }
   ],
   "source": [
    "A"
   ]
  },
  {
   "cell_type": "code",
   "execution_count": 92,
   "id": "appropriate-gardening",
   "metadata": {},
   "outputs": [
    {
     "data": {
      "text/latex": [
       "$\\displaystyle \\left[\\begin{matrix}39 & 46\\\\46 & 78\\end{matrix}\\right]$"
      ],
      "text/plain": [
       "Matrix([\n",
       "[39, 46],\n",
       "[46, 78]])"
      ]
     },
     "execution_count": 92,
     "metadata": {},
     "output_type": "execute_result"
    }
   ],
   "source": [
    "A.T*A"
   ]
  },
  {
   "cell_type": "code",
   "execution_count": 91,
   "id": "prompt-hands",
   "metadata": {},
   "outputs": [
    {
     "data": {
      "text/latex": [
       "$\\displaystyle \\left[\\begin{matrix}\\frac{39}{463} & - \\frac{23}{463}\\\\- \\frac{23}{463} & \\frac{39}{926}\\end{matrix}\\right]$"
      ],
      "text/plain": [
       "Matrix([\n",
       "[ 39/463, -23/463],\n",
       "[-23/463,  39/926]])"
      ]
     },
     "execution_count": 91,
     "metadata": {},
     "output_type": "execute_result"
    }
   ],
   "source": [
    "(A.T*A)**(-1)"
   ]
  },
  {
   "cell_type": "code",
   "execution_count": 107,
   "id": "emotional-absolute",
   "metadata": {},
   "outputs": [
    {
     "data": {
      "text/latex": [
       "$\\displaystyle \\left[\\begin{matrix}- \\frac{7}{463} & \\frac{126}{463} & - \\frac{14}{463} & - \\frac{44}{463}\\\\\\frac{16}{463} & - \\frac{113}{926} & \\frac{32}{463} & \\frac{135}{926}\\end{matrix}\\right]$"
      ],
      "text/plain": [
       "Matrix([\n",
       "[-7/463,  126/463, -14/463, -44/463],\n",
       "[16/463, -113/926,  32/463, 135/926]])"
      ]
     },
     "execution_count": 107,
     "metadata": {},
     "output_type": "execute_result"
    }
   ],
   "source": [
    "(A.T*A)**(-1)*A.T"
   ]
  },
  {
   "cell_type": "code",
   "execution_count": 108,
   "id": "frank-fireplace",
   "metadata": {},
   "outputs": [
    {
     "data": {
      "text/latex": [
       "$\\displaystyle \\left[\\begin{matrix}\\frac{229}{463}\\\\\\frac{601}{463}\\end{matrix}\\right]$"
      ],
      "text/plain": [
       "Matrix([\n",
       "[229/463],\n",
       "[601/463]])"
      ]
     },
     "execution_count": 108,
     "metadata": {},
     "output_type": "execute_result"
    }
   ],
   "source": [
    "Result=((A.T*A)**(-1)*A.T)*B\n",
    "Result"
   ]
  },
  {
   "cell_type": "code",
   "execution_count": 109,
   "id": "fifth-formation",
   "metadata": {},
   "outputs": [
    {
     "data": {
      "text/plain": [
       "{a1: 229/463, a2: 601/463}"
      ]
     },
     "execution_count": 109,
     "metadata": {},
     "output_type": "execute_result"
    }
   ],
   "source": [
    "res=dict(zip(list_a, Result))\n",
    "res"
   ]
  },
  {
   "cell_type": "code",
   "execution_count": 110,
   "id": "colonial-martin",
   "metadata": {},
   "outputs": [
    {
     "data": {
      "text/latex": [
       "$\\displaystyle 6.24190064794816$"
      ],
      "text/plain": [
       "6.24190064794816"
      ]
     },
     "execution_count": 110,
     "metadata": {},
     "output_type": "execute_result"
    }
   ],
   "source": [
    "MSE.subs(res)"
   ]
  },
  {
   "cell_type": "code",
   "execution_count": 123,
   "id": "saving-occupation",
   "metadata": {},
   "outputs": [],
   "source": [
    "x=Symbol('x')\n",
    "f=(exp(1))**(1-x**2)"
   ]
  },
  {
   "cell_type": "code",
   "execution_count": 124,
   "id": "competitive-observation",
   "metadata": {},
   "outputs": [
    {
     "data": {
      "image/png": "[encoded data removed]",
      "text/plain": [
       "<Figure size 432x288 with 1 Axes>"
      ]
     },
     "metadata": {
      "needs_background": "light"
     },
     "output_type": "display_data"
    },
    {
     "data": {
      "text/plain": [
       "<sympy.plotting.plot.Plot at 0x7f379b545950>"
      ]
     },
     "execution_count": 124,
     "metadata": {},
     "output_type": "execute_result"
    }
   ],
   "source": [
    "plotting.plot(f)"
   ]
  },
  {
   "cell_type": "code",
   "execution_count": null,
   "id": "separated-nightlife",
   "metadata": {},
   "outputs": [],
   "source": []
  },
  {
   "cell_type": "code",
   "execution_count": null,
   "id": "renewable-huntington",
   "metadata": {},
   "outputs": [],
   "source": []
  }
 ],
 "metadata": {
  "kernelspec": {
   "display_name": "Python 3",
   "language": "python",
   "name": "python3"
  },
  "language_info": {
   "codemirror_mode": {
    "name": "ipython",
    "version": 3
   },
   "file_extension": ".py",
   "mimetype": "text/x-python",
   "name": "python",
   "nbconvert_exporter": "python",
   "pygments_lexer": "ipython3",
   "version": "3.7.10"
  }
 },
 "nbformat": 4,
 "nbformat_minor": 5
}
