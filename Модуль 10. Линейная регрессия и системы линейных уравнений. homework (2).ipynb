{
 "cells": [
  {
   "cell_type": "code",
   "execution_count": 1,
   "id": "surprising-squad",
   "metadata": {},
   "outputs": [],
   "source": [
    "from sympy import *\n",
    "import numpy as np\n",
    "import pandas as pd\n",
    "init_printing(use_unicode=False, wrap_line=False, no_global=True)"
   ]
  },
  {
   "cell_type": "code",
   "execution_count": 2,
   "id": "outer-enlargement",
   "metadata": {
    "scrolled": false
   },
   "outputs": [
    {
     "data": {
      "text/latex": [
       "$\\displaystyle \\left[\\begin{matrix}-1 & 7 & -34\\\\8 & 8 & -48\\end{matrix}\\right]$"
      ],
      "text/plain": [
       "[-1  7  -34]\n",
       "[          ]\n",
       "[8   8  -48]"
      ]
     },
     "metadata": {},
     "output_type": "display_data"
    },
    {
     "data": {
      "image/png": "[encoded data removed]",
      "text/latex": [
       "$\\displaystyle \\left\\{\\left( -1, \\  -5\\right)\\right\\}$"
      ],
      "text/plain": [
       "{(-1, -5)}"
      ]
     },
     "metadata": {},
     "output_type": "display_data"
    },
    {
     "name": "stdout",
     "output_type": "stream",
     "text": [
      "\n",
      "\n",
      "\n"
     ]
    },
    {
     "data": {
      "text/latex": [
       "$\\displaystyle \\left[\\begin{matrix}4 & -7 & -4\\\\3 & -4 & -3\\end{matrix}\\right]$"
      ],
      "text/plain": [
       "[4  -7  -4]\n",
       "[         ]\n",
       "[3  -4  -3]"
      ]
     },
     "metadata": {},
     "output_type": "display_data"
    },
    {
     "data": {
      "image/png": "[encoded data removed]",
      "text/latex": [
       "$\\displaystyle \\left\\{\\left( -1, \\  0\\right)\\right\\}$"
      ],
      "text/plain": [
       "{(-1, 0)}"
      ]
     },
     "metadata": {},
     "output_type": "display_data"
    },
    {
     "name": "stdout",
     "output_type": "stream",
     "text": [
      "\n",
      "\n",
      "\n"
     ]
    },
    {
     "data": {
      "text/latex": [
       "$\\displaystyle \\left[\\begin{matrix}8 & -4 & 64\\\\-3 & 3 & -21\\end{matrix}\\right]$"
      ],
      "text/plain": [
       "[8   -4  64 ]\n",
       "[           ]\n",
       "[-3  3   -21]"
      ]
     },
     "metadata": {},
     "output_type": "display_data"
    },
    {
     "data": {
      "image/png": "[encoded data removed]",
      "text/latex": [
       "$\\displaystyle \\left\\{\\left( 9, \\  2\\right)\\right\\}$"
      ],
      "text/plain": [
       "{(9, 2)}"
      ]
     },
     "metadata": {},
     "output_type": "display_data"
    },
    {
     "name": "stdout",
     "output_type": "stream",
     "text": [
      "\n",
      "\n",
      "\n"
     ]
    },
    {
     "data": {
      "text/latex": [
       "$\\displaystyle \\left[\\begin{matrix}5 & 7 & -5 & -47\\\\0 & -2 & 2 & 10\\\\-4 & -8 & -7 & 63\\end{matrix}\\right]$"
      ],
      "text/plain": [
       "[5   7   -5  -47]\n",
       "[               ]\n",
       "[0   -2  2   10 ]\n",
       "[               ]\n",
       "[-4  -8  -7  63 ]"
      ]
     },
     "metadata": {},
     "output_type": "display_data"
    },
    {
     "data": {
      "image/png": "[encoded data removed]",
      "text/latex": [
       "$\\displaystyle \\left\\{\\left( -2, \\  -6, \\  -1\\right)\\right\\}$"
      ],
      "text/plain": [
       "{(-2, -6, -1)}"
      ]
     },
     "metadata": {},
     "output_type": "display_data"
    },
    {
     "name": "stdout",
     "output_type": "stream",
     "text": [
      "\n",
      "\n",
      "\n"
     ]
    }
   ],
   "source": [
    "Matr=[[[-1,7,-34],[8,8,-48]],\n",
    "      [[4,-7,-4],[3,-4,-3]],\n",
    "      [[8,-4,64],[-3,3,-21]],\n",
    "      [[5,7,-5,-47],[0,-2,2,10],[-4,-8,-7,63]]]\n",
    "for i in Matr:\n",
    "    f = Matrix(i)\n",
    "    display(f,linsolve(f))\n",
    "    print('\\n\\n')\n",
    "    \n"
   ]
  },
  {
   "cell_type": "code",
   "execution_count": 3,
   "id": "stylish-retail",
   "metadata": {},
   "outputs": [],
   "source": [
    "matr=[[[-1,7],[8,8]],\n",
    "      [[4,-7],[3,-4]],\n",
    "      [[8,-4],[3,-3]],\n",
    "      [[5,7,-5],[0,-2,2],[-4,-8,-7]]]\n",
    "matr_b=[[-1,-5],[-1,0],[9,2],[-2,-6,-1]]\n",
    "    \n"
   ]
  },
  {
   "cell_type": "code",
   "execution_count": 4,
   "id": "amazing-processor",
   "metadata": {},
   "outputs": [
    {
     "data": {
      "text/latex": [
       "$\\displaystyle \\left[\\begin{matrix}-1 & 7\\\\8 & 8\\end{matrix}\\right]$"
      ],
      "text/plain": [
       "[-1  7]\n",
       "[     ]\n",
       "[8   8]"
      ]
     },
     "metadata": {},
     "output_type": "display_data"
    },
    {
     "data": {
      "text/latex": [
       "$\\displaystyle \\left[\\begin{matrix}-1\\\\-5\\end{matrix}\\right]$"
      ],
      "text/plain": [
       "[-1]\n",
       "[  ]\n",
       "[-5]"
      ]
     },
     "metadata": {},
     "output_type": "display_data"
    },
    {
     "data": {
      "text/latex": [
       "$\\displaystyle \\left[\\begin{matrix}-34\\\\-48\\end{matrix}\\right]$"
      ],
      "text/plain": [
       "[-34]\n",
       "[   ]\n",
       "[-48]"
      ]
     },
     "metadata": {},
     "output_type": "display_data"
    },
    {
     "name": "stdout",
     "output_type": "stream",
     "text": [
      "--------------------------------------------------\n"
     ]
    },
    {
     "data": {
      "text/latex": [
       "$\\displaystyle \\left[\\begin{matrix}4 & -7\\\\3 & -4\\end{matrix}\\right]$"
      ],
      "text/plain": [
       "[4  -7]\n",
       "[     ]\n",
       "[3  -4]"
      ]
     },
     "metadata": {},
     "output_type": "display_data"
    },
    {
     "data": {
      "text/latex": [
       "$\\displaystyle \\left[\\begin{matrix}-1\\\\0\\end{matrix}\\right]$"
      ],
      "text/plain": [
       "[-1]\n",
       "[  ]\n",
       "[0 ]"
      ]
     },
     "metadata": {},
     "output_type": "display_data"
    },
    {
     "data": {
      "text/latex": [
       "$\\displaystyle \\left[\\begin{matrix}-4\\\\-3\\end{matrix}\\right]$"
      ],
      "text/plain": [
       "[-4]\n",
       "[  ]\n",
       "[-3]"
      ]
     },
     "metadata": {},
     "output_type": "display_data"
    },
    {
     "name": "stdout",
     "output_type": "stream",
     "text": [
      "--------------------------------------------------\n"
     ]
    },
    {
     "data": {
      "text/latex": [
       "$\\displaystyle \\left[\\begin{matrix}8 & -4\\\\3 & -3\\end{matrix}\\right]$"
      ],
      "text/plain": [
       "[8  -4]\n",
       "[     ]\n",
       "[3  -3]"
      ]
     },
     "metadata": {},
     "output_type": "display_data"
    },
    {
     "data": {
      "text/latex": [
       "$\\displaystyle \\left[\\begin{matrix}9\\\\2\\end{matrix}\\right]$"
      ],
      "text/plain": [
       "[9]\n",
       "[ ]\n",
       "[2]"
      ]
     },
     "metadata": {},
     "output_type": "display_data"
    },
    {
     "data": {
      "text/latex": [
       "$\\displaystyle \\left[\\begin{matrix}64\\\\21\\end{matrix}\\right]$"
      ],
      "text/plain": [
       "[64]\n",
       "[  ]\n",
       "[21]"
      ]
     },
     "metadata": {},
     "output_type": "display_data"
    },
    {
     "name": "stdout",
     "output_type": "stream",
     "text": [
      "--------------------------------------------------\n"
     ]
    },
    {
     "data": {
      "text/latex": [
       "$\\displaystyle \\left[\\begin{matrix}5 & 7 & -5\\\\0 & -2 & 2\\\\-4 & -8 & -7\\end{matrix}\\right]$"
      ],
      "text/plain": [
       "[5   7   -5]\n",
       "[          ]\n",
       "[0   -2  2 ]\n",
       "[          ]\n",
       "[-4  -8  -7]"
      ]
     },
     "metadata": {},
     "output_type": "display_data"
    },
    {
     "data": {
      "text/latex": [
       "$\\displaystyle \\left[\\begin{matrix}-2\\\\-6\\\\-1\\end{matrix}\\right]$"
      ],
      "text/plain": [
       "[-2]\n",
       "[  ]\n",
       "[-6]\n",
       "[  ]\n",
       "[-1]"
      ]
     },
     "metadata": {},
     "output_type": "display_data"
    },
    {
     "data": {
      "text/latex": [
       "$\\displaystyle \\left[\\begin{matrix}-47\\\\10\\\\63\\end{matrix}\\right]$"
      ],
      "text/plain": [
       "[-47]\n",
       "[   ]\n",
       "[10 ]\n",
       "[   ]\n",
       "[63 ]"
      ]
     },
     "metadata": {},
     "output_type": "display_data"
    },
    {
     "name": "stdout",
     "output_type": "stream",
     "text": [
      "--------------------------------------------------\n"
     ]
    }
   ],
   "source": [
    "for i in range(len(matr)):\n",
    "    M=Matrix(matr[i])\n",
    "    MB=Matrix(matr_b[i])\n",
    "    display(M,MB,M*MB)\n",
    "    print('-'*50)"
   ]
  },
  {
   "cell_type": "code",
   "execution_count": 6,
   "id": "dutch-netscape",
   "metadata": {},
   "outputs": [
    {
     "data": {
      "image/png": "[encoded data removed]",
      "text/latex": [
       "$\\displaystyle \\frac{\\left(- 2 a_{1} + 2 a_{2} - 10\\right)^{2}}{6} + \\frac{\\left(- 4 a_{0} - 8 a_{1} - 7 a_{2} - 63\\right)^{2}}{6} + \\frac{\\left(a_{0} + a_{1} + 2 a_{2} + 1\\right)^{2}}{6} + \\frac{\\left(2 a_{0} - a_{1} + 2 a_{2} + 4\\right)^{2}}{6} + \\frac{\\left(4 a_{0} + a_{1} + 4 a_{2} + 2\\right)^{2}}{6} + \\frac{\\left(5 a_{0} + 7 a_{1} - 5 a_{2} + 47\\right)^{2}}{6}$"
      ],
      "text/plain": [
       "                   2                             2                       2                         2                         2                            2\n",
       "(-2*a1 + 2*a2 - 10)    (-4*a0 - 8*a1 - 7*a2 - 63)    (a0 + a1 + 2*a2 + 1)    (2*a0 - a1 + 2*a2 + 4)    (4*a0 + a1 + 4*a2 + 2)    (5*a0 + 7*a1 - 5*a2 + 47) \n",
       "-------------------- + --------------------------- + --------------------- + ----------------------- + ----------------------- + --------------------------\n",
       "         6                          6                          6                        6                         6                          6             "
      ]
     },
     "execution_count": 6,
     "metadata": {},
     "output_type": "execute_result"
    }
   ],
   "source": [
    "# Создалим  функцию, которая будет создавать алгебраическое выражение для \n",
    "# MSE  любой переопределенной системы уравнений.\n",
    "list_a=[]\n",
    "list_x=[]\n",
    "system=[[5,7,-5],[0,-2,2],[-4,-8,-7],[1,1,2],[2,-1,2],[4,1,4]]\n",
    "rez=[-47,10,63,-1,-4,-2]\n",
    "for i in range(len(system[0])):\n",
    "        list_a.append(Symbol('a'+str(i)))\n",
    "        list_x.append(Symbol('x'+str(i)))\n",
    "\n",
    "\n",
    "\n",
    "def mse(system,rez):\n",
    "    \"\"\"Функция на входе принимает два обязательных  параметра\n",
    "    system итерируемый объект из списков(или других итерируемых объектов)\n",
    "    коэффициентов линейных уравнений\n",
    "    rez итерируемый объект результатов уравнений\"\"\"\n",
    "    list_a=[]\n",
    "    list_x=[]\n",
    "    for i in range(len(system[0])):\n",
    "        list_a.append(Symbol('a'+str(i)))\n",
    "        list_x.append(Symbol('x'+str(i)))\n",
    "    f=np.sum(np.array(list_a)*np.array(list_x))\n",
    "    MSE=0\n",
    "    for j,i in enumerate(system):\n",
    "        MSE = MSE + (f.subs({'x0':i[0], 'x1':i[1],'x2': i[2]})-rez[j])**2\n",
    "    return MSE/len(system)\n",
    "MSE=mse(system,rez)\n",
    "MSE\n"
   ]
  },
  {
   "cell_type": "code",
   "execution_count": 7,
   "id": "armed-cornell",
   "metadata": {},
   "outputs": [
    {
     "data": {
      "image/png": "[encoded data removed]",
      "text/latex": [
       "$\\displaystyle \\left[ \\frac{62 a_{0}}{3} + \\frac{70 a_{1}}{3} + \\frac{25 a_{2}}{3} + 168, \\  \\frac{70 a_{0}}{3} + 40 a_{1} + 7 a_{2} + 284, \\  \\frac{25 a_{0}}{3} + 7 a_{1} + 34 a_{2} + 68\\right]$"
      ],
      "text/plain": [
       " 62*a0   70*a1   25*a2        70*a0                       25*a0                     \n",
       "[----- + ----- + ----- + 168, ----- + 40*a1 + 7*a2 + 284, ----- + 7*a1 + 34*a2 + 68]\n",
       "   3       3       3            3                           3                       "
      ]
     },
     "execution_count": 7,
     "metadata": {},
     "output_type": "execute_result"
    }
   ],
   "source": [
    "list_dif=[]\n",
    "for i in list_a:\n",
    "    list_dif.append(diff(MSE,i))\n",
    "list_dif"
   ]
  },
  {
   "cell_type": "code",
   "execution_count": 8,
   "id": "endangered-consultation",
   "metadata": {},
   "outputs": [
    {
     "data": {
      "image/png": "[encoded data removed]",
      "text/latex": [
       "$\\displaystyle \\left( \\frac{78}{12791}, \\  - \\frac{89610}{12791}, \\  - \\frac{7152}{12791}\\right)$"
      ],
      "text/plain": [
       "   78   -89610   -7152  \n",
       "(-----, -------, ------)\n",
       " 12791   12791   12791  "
      ]
     },
     "execution_count": 8,
     "metadata": {},
     "output_type": "execute_result"
    }
   ],
   "source": [
    "sol=nonlinsolve(list_dif,list_a).args[0]\n",
    "sol"
   ]
  },
  {
   "cell_type": "code",
   "execution_count": 9,
   "id": "applied-modem",
   "metadata": {},
   "outputs": [
    {
     "data": {
      "text/latex": [
       "$\\displaystyle \\left[\\begin{matrix}5 & 7 & -5 & -47\\\\0 & -2 & 2 & 10\\\\-4 & -8 & -7 & 63\\end{matrix}\\right]$"
      ],
      "text/plain": [
       "[5   7   -5  -47]\n",
       "[               ]\n",
       "[0   -2  2   10 ]\n",
       "[               ]\n",
       "[-4  -8  -7  63 ]"
      ]
     },
     "execution_count": 9,
     "metadata": {},
     "output_type": "execute_result"
    }
   ],
   "source": [
    "g=f.subs({'a0':sol[0],'a1':sol[1], 'a2':sol[2]})\n",
    "g"
   ]
  },
  {
   "cell_type": "code",
   "execution_count": 10,
   "id": "romance-reviewer",
   "metadata": {},
   "outputs": [
    {
     "data": {
      "image/png": "[encoded data removed]",
      "text/latex": [
       "$\\displaystyle \\frac{2803093}{76746}$"
      ],
      "text/plain": [
       "2803093\n",
       "-------\n",
       " 76746 "
      ]
     },
     "execution_count": 10,
     "metadata": {},
     "output_type": "execute_result"
    }
   ],
   "source": [
    "MSE.subs({'a0':sol[0],'a1':sol[1], 'a2':sol[2]})"
   ]
  },
  {
   "cell_type": "code",
   "execution_count": 11,
   "id": "authorized-picture",
   "metadata": {},
   "outputs": [
    {
     "data": {
      "image/png": "[encoded data removed]",
      "text/latex": [
       "$\\displaystyle 36.5242879107706$"
      ],
      "text/plain": [
       "36.524287910770596"
      ]
     },
     "execution_count": 11,
     "metadata": {},
     "output_type": "execute_result"
    }
   ],
   "source": [
    "2803093/76746"
   ]
  },
  {
   "cell_type": "markdown",
   "id": "polish-workplace",
   "metadata": {},
   "source": [
    "Теперь посчитаем это же методом градиентного спуска\n",
    "Возьмем три произвольных значения   \n",
    "a1=1,   \n",
    "a2=1,  \n",
    "a3=1\n"
   ]
  },
  {
   "cell_type": "code",
   "execution_count": null,
   "id": "cross-sydney",
   "metadata": {},
   "outputs": [],
   "source": []
  },
  {
   "cell_type": "code",
   "execution_count": 12,
   "id": "quality-texture",
   "metadata": {},
   "outputs": [],
   "source": [
    "def regr(point,MSE_aim,learning_rate):\n",
    "    \"\"\"\n",
    "    function for searching coefficiens of redifined system of lineal equations\n",
    "    \n",
    "    \n",
    "    parametrs:\n",
    "        point - first point for search\n",
    "    MSE_aim aim fo MSE, you want to get\n",
    "    learning_rate - step for gradient descent\n",
    "    \n",
    "    display time start, time end,\n",
    "    MSE Value\n",
    "    return tuple:\n",
    "    dict points, val\n",
    "    \"\"\"\n",
    "    \n",
    "        \n",
    "    \n",
    "    dict_point={}\n",
    "    xt=pd.Timestamp.now()\n",
    "    print('время начала ',xt)\n",
    "    for h,k in enumerate(list_a):\n",
    "         dict_point[list_a[h]]=point[h]\n",
    "    list_Mse=[]\n",
    "    while MSE.subs(dict_point)>MSE_aim:\n",
    "        \n",
    "        \n",
    "        for i in range(len(point)):\n",
    "            point[i]=  point[i]-diff(MSE,list_a[i]).subs(dict_point)*learning_rate\n",
    "            dict_point[list_a[i]]=point[i]\n",
    "\n",
    "    yt=pd.Timestamp.now()   \n",
    "    print('время окончания ',yt)\n",
    "    print(MSE.subs(dict_point))\n",
    "    print ('затрачено время',(yt-xt))\n",
    "    return (dict_point,{'MSE':MSE.subs(dict_point)})\n"
   ]
  },
  {
   "cell_type": "code",
   "execution_count": 13,
   "id": "homeless-algeria",
   "metadata": {},
   "outputs": [
    {
     "name": "stdout",
     "output_type": "stream",
     "text": [
      "время начала  2021-05-01 11:45:09.945034\n",
      "время окончания  2021-05-01 11:45:10.445804\n",
      "53.6223922644693\n",
      "затрачено время 0 days 00:00:00.500770\n"
     ]
    },
    {
     "data": {
      "text/plain": [
       "({a0: -2.25776878131059, a1: -5.58732958379538, a2: -0.304690516522426},\n",
       " {'MSE': 53.6223922644693})"
      ]
     },
     "execution_count": 13,
     "metadata": {},
     "output_type": "execute_result"
    }
   ],
   "source": [
    "point=[0,0,0]\n",
    "MSE_aim = 55\n",
    "learning_rate=0.01\n",
    "\n",
    "regr(point,MSE_aim,learning_rate)"
   ]
  },
  {
   "cell_type": "markdown",
   "id": "expressed-webmaster",
   "metadata": {},
   "source": [
    "не очень согласуется с полученным до этого результатом. попробуем более жестко установить рамки MSE, например, то значение, которое мы получили решая через систмему линейных уравнений. \n",
    "MSE= 36.5242879107706"
   ]
  },
  {
   "cell_type": "code",
   "execution_count": 14,
   "id": "personal-sugar",
   "metadata": {},
   "outputs": [
    {
     "name": "stdout",
     "output_type": "stream",
     "text": [
      "время начала  2021-05-01 11:45:15.517070\n",
      "время окончания  2021-05-01 11:45:32.653162\n",
      "36.5242879107706\n",
      "затрачено время 0 days 00:00:17.136092\n"
     ]
    },
    {
     "data": {
      "text/plain": [
       "({a0: 0.00609796614209715, a1: -7.00570709419740, a2: -0.559143137928326},\n",
       " {'MSE': 36.5242879107706})"
      ]
     },
     "execution_count": 14,
     "metadata": {},
     "output_type": "execute_result"
    }
   ],
   "source": [
    "point=[1,1,1]\n",
    "MSE_aim = 36.5242879107706\n",
    "learning_rate=0.01\n",
    "\n",
    "coeff=regr(point,MSE_aim,learning_rate)\n",
    "coeff"
   ]
  },
  {
   "cell_type": "markdown",
   "id": "recovered-success",
   "metadata": {},
   "source": [
    "вот теперь данные почти совпали, но очень много времени"
   ]
  },
  {
   "cell_type": "code",
   "execution_count": 55,
   "id": "pediatric-columbia",
   "metadata": {},
   "outputs": [
    {
     "data": {
      "image/png": "[encoded data removed]",
      "text/latex": [
       "$\\displaystyle 0.00609803768274568$"
      ],
      "text/plain": [
       "0.006098037682745681"
      ]
     },
     "execution_count": 55,
     "metadata": {},
     "output_type": "execute_result"
    }
   ],
   "source": [
    "78/12791"
   ]
  },
  {
   "cell_type": "code",
   "execution_count": 56,
   "id": "angry-photograph",
   "metadata": {},
   "outputs": [
    {
     "data": {
      "image/png": "[encoded data removed]",
      "text/latex": [
       "$\\displaystyle -7.00570713783129$"
      ],
      "text/plain": [
       "-7.005707137831288"
      ]
     },
     "execution_count": 56,
     "metadata": {},
     "output_type": "execute_result"
    }
   ],
   "source": [
    "-89610/12791"
   ]
  },
  {
   "cell_type": "code",
   "execution_count": 57,
   "id": "favorite-damage",
   "metadata": {},
   "outputs": [
    {
     "data": {
      "image/png": "[encoded data removed]",
      "text/latex": [
       "$\\displaystyle -0.559143147525604$"
      ],
      "text/plain": [
       "-0.5591431475256039"
      ]
     },
     "execution_count": 57,
     "metadata": {},
     "output_type": "execute_result"
    }
   ],
   "source": [
    "-7152/12791"
   ]
  },
  {
   "cell_type": "code",
   "execution_count": null,
   "id": "based-microphone",
   "metadata": {},
   "outputs": [],
   "source": []
  }
 ],
 "metadata": {
  "kernelspec": {
   "display_name": "Python 3",
   "language": "python",
   "name": "python3"
  },
  "language_info": {
   "codemirror_mode": {
    "name": "ipython",
    "version": 3
   },
   "file_extension": ".py",
   "mimetype": "text/x-python",
   "name": "python",
   "nbconvert_exporter": "python",
   "pygments_lexer": "ipython3",
   "version": "3.7.10"
  }
 },
 "nbformat": 4,
 "nbformat_minor": 5
}
